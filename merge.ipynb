{
 "cells": [
  {
   "cell_type": "code",
   "execution_count": 18,
   "id": "f06955d0-20bf-48fd-abbe-462b2921a888",
   "metadata": {},
   "outputs": [],
   "source": [
    "import pandas as pd"
   ]
  },
  {
   "cell_type": "code",
   "execution_count": 19,
   "id": "2521dc2d-dac3-4446-8c7c-fba6f53d1eb3",
   "metadata": {},
   "outputs": [],
   "source": [
    "import os"
   ]
  },
  {
   "cell_type": "code",
   "execution_count": 20,
   "id": "51728e84-09fc-47ee-960a-5437fab3b55a",
   "metadata": {},
   "outputs": [],
   "source": [
    "cwd = os.path.abspath('/Users/hadoop/Downloads')"
   ]
  },
  {
   "cell_type": "code",
   "execution_count": 21,
   "id": "2267b46f-3ab3-4743-9d1a-c330cb1a7bbc",
   "metadata": {},
   "outputs": [],
   "source": [
    "file_list = os.listdir(cwd)"
   ]
  },
  {
   "cell_type": "code",
   "execution_count": 22,
   "id": "8f3f8df7-7f69-4334-a925-e80bcecdc171",
   "metadata": {},
   "outputs": [
    {
     "data": {
      "text/plain": [
       "['merge.ipynb',\n",
       " 'Dhaka,Bangladesh 2017-10-01 to 2020-05-31.csv',\n",
       " '.DS_Store',\n",
       " 'dhaka.csv',\n",
       " '.localized',\n",
       " 'Dhaka,Bangladesh 2020-06-01 to 2020-10-31.csv',\n",
       " 'Dhaka,Bangladesh 2013-01-01 to 2015-01-04.csv',\n",
       " '$RECYCLE.BIN',\n",
       " 'Dhaka,Bangladesh 2023-07-16 to 2023-11-06.csv',\n",
       " 'Dhaka,Bangladesh 2022-11-01 to 2023-07-15.csv',\n",
       " 'Dhaka,Bangladesh 2015-01-05 to 2017-09-30.csv',\n",
       " '.ipynb_checkpoints',\n",
       " 'desktop.ini',\n",
       " '~$SA Volunteer Hours Tracking Form.docx',\n",
       " 'Dhaka,Bangladesh 2020-11-01 to 2022-10-31.csv']"
      ]
     },
     "execution_count": 22,
     "metadata": {},
     "output_type": "execute_result"
    }
   ],
   "source": [
    "file_list"
   ]
  },
  {
   "cell_type": "code",
   "execution_count": 23,
   "id": "fda06382-8b56-47fa-b2b8-e7c7d2850de8",
   "metadata": {},
   "outputs": [],
   "source": [
    "df = pd.concat( map(pd.read_csv, ['Dhaka,Bangladesh 2013-01-01 to 2015-01-04.csv',\n",
    "'Dhaka,Bangladesh 2015-01-05 to 2017-09-30.csv',\n",
    " 'Dhaka,Bangladesh 2017-10-01 to 2020-05-31.csv',\n",
    " 'Dhaka,Bangladesh 2020-06-01 to 2020-10-31.csv',\n",
    " 'Dhaka,Bangladesh 2022-11-01 to 2023-07-15.csv',\n",
    " 'Dhaka,Bangladesh 2020-11-01 to 2022-10-31.csv',\n",
    " 'Dhaka,Bangladesh 2023-07-16 to 2023-11-06.csv',]), ignore_index=True) \n",
    "\n"
   ]
  },
  {
   "cell_type": "code",
   "execution_count": 25,
   "id": "ca55f162-ca60-4cad-bd46-0eac349ba139",
   "metadata": {},
   "outputs": [],
   "source": [
    "df.to_csv('dhaka_noindex.csv', index=False)"
   ]
  },
  {
   "cell_type": "code",
   "execution_count": 26,
   "id": "fa57a00b-0c5c-48ff-8db8-1b0ce507b334",
   "metadata": {},
   "outputs": [],
   "source": [
    "df_new = pd.read_csv('dhaka_noindex.csv',index_col='datetime',parse_dates=True)"
   ]
  },
  {
   "cell_type": "code",
   "execution_count": 27,
   "id": "d40858f0-fb6d-40e1-ad64-f8de072c03e1",
   "metadata": {},
   "outputs": [],
   "source": [
    "df_new.to_csv('dhaka.csv')"
   ]
  },
  {
   "cell_type": "code",
   "execution_count": null,
   "id": "3067ddb2-3f99-48a4-86bb-a82f0aa6cbda",
   "metadata": {},
   "outputs": [],
   "source": []
  }
 ],
 "metadata": {
  "kernelspec": {
   "display_name": "Python 3 (ipykernel)",
   "language": "python",
   "name": "python3"
  },
  "language_info": {
   "codemirror_mode": {
    "name": "ipython",
    "version": 3
   },
   "file_extension": ".py",
   "mimetype": "text/x-python",
   "name": "python",
   "nbconvert_exporter": "python",
   "pygments_lexer": "ipython3",
   "version": "3.9.13"
  }
 },
 "nbformat": 4,
 "nbformat_minor": 5
}
