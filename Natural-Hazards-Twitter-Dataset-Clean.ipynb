{
 "cells": [
  {
   "cell_type": "code",
   "execution_count": 191,
   "id": "e6ff3df7",
   "metadata": {},
   "outputs": [],
   "source": [
    "import numpy as np\n",
    "import pandas as pd\n"
   ]
  },
  {
   "cell_type": "code",
   "execution_count": 192,
   "id": "f7949605",
   "metadata": {},
   "outputs": [],
   "source": [
    "Tornado_Summary_2011_df = pd.read_csv('2011Tornado_Summary.csv')"
   ]
  },
  {
   "cell_type": "code",
   "execution_count": 193,
   "id": "95535a58",
   "metadata": {},
   "outputs": [],
   "source": [
    "Tornado_Summary_2011_df['type_of_disaster'] ='Tornado_2011'"
   ]
  },
  {
   "cell_type": "code",
   "execution_count": 194,
   "id": "4d20c049",
   "metadata": {},
   "outputs": [],
   "source": [
    "Tornado_Summary_2011_df.drop(['num','timestamp'], axis=1,inplace=True)"
   ]
  },
  {
   "cell_type": "code",
   "execution_count": 195,
   "id": "3589c0dc",
   "metadata": {},
   "outputs": [
    {
     "data": {
      "text/html": [
       "<div>\n",
       "<style scoped>\n",
       "    .dataframe tbody tr th:only-of-type {\n",
       "        vertical-align: middle;\n",
       "    }\n",
       "\n",
       "    .dataframe tbody tr th {\n",
       "        vertical-align: top;\n",
       "    }\n",
       "\n",
       "    .dataframe thead th {\n",
       "        text-align: right;\n",
       "    }\n",
       "</style>\n",
       "<table border=\"1\" class=\"dataframe\">\n",
       "  <thead>\n",
       "    <tr style=\"text-align: right;\">\n",
       "      <th></th>\n",
       "      <th>text</th>\n",
       "      <th>label</th>\n",
       "      <th>type_of_disaster</th>\n",
       "    </tr>\n",
       "  </thead>\n",
       "  <tbody>\n",
       "    <tr>\n",
       "      <th>0</th>\n",
       "      <td>RT @uberdogfound: Please RT - Food needed for ...</td>\n",
       "      <td>1</td>\n",
       "      <td>Tornado_2011</td>\n",
       "    </tr>\n",
       "    <tr>\n",
       "      <th>1</th>\n",
       "      <td>Please RT - Food needed for shelter in NC in a...</td>\n",
       "      <td>1</td>\n",
       "      <td>Tornado_2011</td>\n",
       "    </tr>\n",
       "    <tr>\n",
       "      <th>2</th>\n",
       "      <td>‚ô°its raining and tornado warnings....about t...</td>\n",
       "      <td>1</td>\n",
       "      <td>Tornado_2011</td>\n",
       "    </tr>\n",
       "    <tr>\n",
       "      <th>3</th>\n",
       "      <td>Lmao #damn RT @LuCeCaNNoNn: If I don't get any...</td>\n",
       "      <td>1</td>\n",
       "      <td>Tornado_2011</td>\n",
       "    </tr>\n",
       "    <tr>\n",
       "      <th>4</th>\n",
       "      <td>Saved by the tornado warning....I'm just ready...</td>\n",
       "      <td>0</td>\n",
       "      <td>Tornado_2011</td>\n",
       "    </tr>\n",
       "  </tbody>\n",
       "</table>\n",
       "</div>"
      ],
      "text/plain": [
       "                                                text  label type_of_disaster\n",
       "0  RT @uberdogfound: Please RT - Food needed for ...      1     Tornado_2011\n",
       "1  Please RT - Food needed for shelter in NC in a...      1     Tornado_2011\n",
       "2  ‚ô°its raining and tornado warnings....about t...      1     Tornado_2011\n",
       "3  Lmao #damn RT @LuCeCaNNoNn: If I don't get any...      1     Tornado_2011\n",
       "4  Saved by the tornado warning....I'm just ready...      0     Tornado_2011"
      ]
     },
     "execution_count": 195,
     "metadata": {},
     "output_type": "execute_result"
    }
   ],
   "source": [
    "Tornado_Summary_2011_df.head()\n"
   ]
  },
  {
   "cell_type": "code",
   "execution_count": 196,
   "id": "0663b5de",
   "metadata": {},
   "outputs": [
    {
     "data": {
      "text/plain": [
       "(3572, 3)"
      ]
     },
     "execution_count": 196,
     "metadata": {},
     "output_type": "execute_result"
    }
   ],
   "source": [
    "Tornado_Summary_2011_df.shape\n"
   ]
  },
  {
   "cell_type": "code",
   "execution_count": 197,
   "id": "00b5562b",
   "metadata": {},
   "outputs": [
    {
     "name": "stdout",
     "output_type": "stream",
     "text": [
      "<class 'pandas.core.frame.DataFrame'>\n",
      "RangeIndex: 3572 entries, 0 to 3571\n",
      "Data columns (total 3 columns):\n",
      " #   Column            Non-Null Count  Dtype \n",
      "---  ------            --------------  ----- \n",
      " 0   text              3572 non-null   object\n",
      " 1   label             3572 non-null   int64 \n",
      " 2   type_of_disaster  3572 non-null   object\n",
      "dtypes: int64(1), object(2)\n",
      "memory usage: 83.8+ KB\n"
     ]
    }
   ],
   "source": [
    "Tornado_Summary_2011_df.info()"
   ]
  },
  {
   "cell_type": "code",
   "execution_count": 198,
   "id": "98516312",
   "metadata": {},
   "outputs": [
    {
     "data": {
      "text/plain": [
       "text                0\n",
       "label               0\n",
       "type_of_disaster    0\n",
       "dtype: int64"
      ]
     },
     "execution_count": 198,
     "metadata": {},
     "output_type": "execute_result"
    }
   ],
   "source": [
    "Tornado_Summary_2011_df.isnull().sum()"
   ]
  },
  {
   "cell_type": "code",
   "execution_count": 199,
   "id": "31d6d424",
   "metadata": {},
   "outputs": [],
   "source": [
    "Sandy_Summary_2012_df = pd.read_csv('2012Sandy_Summary.csv')"
   ]
  },
  {
   "cell_type": "code",
   "execution_count": 200,
   "id": "6b6c9728",
   "metadata": {},
   "outputs": [],
   "source": [
    "Sandy_Summary_2012_df['type_of_disaster'] ='Sandy'"
   ]
  },
  {
   "cell_type": "code",
   "execution_count": 201,
   "id": "1f93f932",
   "metadata": {},
   "outputs": [],
   "source": [
    "Sandy_Summary_2012_df.drop(['num','timestamp'], axis=1,inplace=True)"
   ]
  },
  {
   "cell_type": "code",
   "execution_count": 202,
   "id": "5e037d3e",
   "metadata": {},
   "outputs": [
    {
     "data": {
      "text/html": [
       "<div>\n",
       "<style scoped>\n",
       "    .dataframe tbody tr th:only-of-type {\n",
       "        vertical-align: middle;\n",
       "    }\n",
       "\n",
       "    .dataframe tbody tr th {\n",
       "        vertical-align: top;\n",
       "    }\n",
       "\n",
       "    .dataframe thead th {\n",
       "        text-align: right;\n",
       "    }\n",
       "</style>\n",
       "<table border=\"1\" class=\"dataframe\">\n",
       "  <thead>\n",
       "    <tr style=\"text-align: right;\">\n",
       "      <th></th>\n",
       "      <th>text</th>\n",
       "      <th>label</th>\n",
       "      <th>type_of_disaster</th>\n",
       "    </tr>\n",
       "  </thead>\n",
       "  <tbody>\n",
       "    <tr>\n",
       "      <th>0</th>\n",
       "      <td>They make Hurricane Sandy sound like a big dea...</td>\n",
       "      <td>1</td>\n",
       "      <td>Sandy</td>\n",
       "    </tr>\n",
       "    <tr>\n",
       "      <th>1</th>\n",
       "      <td>The kitchen was out of mad food tonight so I t...</td>\n",
       "      <td>1</td>\n",
       "      <td>Sandy</td>\n",
       "    </tr>\n",
       "    <tr>\n",
       "      <th>2</th>\n",
       "      <td>Hundreds if not thousands of people lost their...</td>\n",
       "      <td>1</td>\n",
       "      <td>Sandy</td>\n",
       "    </tr>\n",
       "    <tr>\n",
       "      <th>3</th>\n",
       "      <td>“@_KingDing_ALing: My TL right now:\\n-The Heat...</td>\n",
       "      <td>1</td>\n",
       "      <td>Sandy</td>\n",
       "    </tr>\n",
       "    <tr>\n",
       "      <th>4</th>\n",
       "      <td>#YouGainMajorPointsIf you go to dollarama whil...</td>\n",
       "      <td>0</td>\n",
       "      <td>Sandy</td>\n",
       "    </tr>\n",
       "  </tbody>\n",
       "</table>\n",
       "</div>"
      ],
      "text/plain": [
       "                                                text  label type_of_disaster\n",
       "0  They make Hurricane Sandy sound like a big dea...      1            Sandy\n",
       "1  The kitchen was out of mad food tonight so I t...      1            Sandy\n",
       "2  Hundreds if not thousands of people lost their...      1            Sandy\n",
       "3  “@_KingDing_ALing: My TL right now:\\n-The Heat...      1            Sandy\n",
       "4  #YouGainMajorPointsIf you go to dollarama whil...      0            Sandy"
      ]
     },
     "execution_count": 202,
     "metadata": {},
     "output_type": "execute_result"
    }
   ],
   "source": [
    "Sandy_Summary_2012_df.head()"
   ]
  },
  {
   "cell_type": "code",
   "execution_count": 203,
   "id": "bfeb1efe",
   "metadata": {},
   "outputs": [
    {
     "data": {
      "text/plain": [
       "(2190, 3)"
      ]
     },
     "execution_count": 203,
     "metadata": {},
     "output_type": "execute_result"
    }
   ],
   "source": [
    "Sandy_Summary_2012_df.shape"
   ]
  },
  {
   "cell_type": "code",
   "execution_count": 204,
   "id": "43030a2e",
   "metadata": {},
   "outputs": [
    {
     "data": {
      "text/plain": [
       "text                0\n",
       "label               0\n",
       "type_of_disaster    0\n",
       "dtype: int64"
      ]
     },
     "execution_count": 204,
     "metadata": {},
     "output_type": "execute_result"
    }
   ],
   "source": [
    "Sandy_Summary_2012_df.isnull().sum()"
   ]
  },
  {
   "cell_type": "code",
   "execution_count": 205,
   "id": "003bea23",
   "metadata": {},
   "outputs": [],
   "source": [
    "Floods_Summary_2013_df = pd.read_csv('2013Floods_Summary.csv')"
   ]
  },
  {
   "cell_type": "code",
   "execution_count": 206,
   "id": "d4fde74f",
   "metadata": {},
   "outputs": [],
   "source": [
    "Floods_Summary_2013_df.drop(['num','timestamp'], axis=1,inplace=True)"
   ]
  },
  {
   "cell_type": "code",
   "execution_count": 207,
   "id": "4043a84e",
   "metadata": {},
   "outputs": [],
   "source": [
    "Floods_Summary_2013_df['type_of_disaster'] ='Floods_2013'"
   ]
  },
  {
   "cell_type": "code",
   "execution_count": 208,
   "id": "679ae7fc",
   "metadata": {},
   "outputs": [
    {
     "data": {
      "text/html": [
       "<div>\n",
       "<style scoped>\n",
       "    .dataframe tbody tr th:only-of-type {\n",
       "        vertical-align: middle;\n",
       "    }\n",
       "\n",
       "    .dataframe tbody tr th {\n",
       "        vertical-align: top;\n",
       "    }\n",
       "\n",
       "    .dataframe thead th {\n",
       "        text-align: right;\n",
       "    }\n",
       "</style>\n",
       "<table border=\"1\" class=\"dataframe\">\n",
       "  <thead>\n",
       "    <tr style=\"text-align: right;\">\n",
       "      <th></th>\n",
       "      <th>text</th>\n",
       "      <th>label</th>\n",
       "      <th>type_of_disaster</th>\n",
       "    </tr>\n",
       "  </thead>\n",
       "  <tbody>\n",
       "    <tr>\n",
       "      <th>0</th>\n",
       "      <td>It's Ok, Manchester's off flood alert. Fat cho...</td>\n",
       "      <td>0</td>\n",
       "      <td>Floods_2013</td>\n",
       "    </tr>\n",
       "    <tr>\n",
       "      <th>1</th>\n",
       "      <td>Love how you ask for a tiny bit of sauce, and ...</td>\n",
       "      <td>0</td>\n",
       "      <td>Floods_2013</td>\n",
       "    </tr>\n",
       "    <tr>\n",
       "      <th>2</th>\n",
       "      <td>Dif tailgate!! Morning games and good food. Im...</td>\n",
       "      <td>0</td>\n",
       "      <td>Floods_2013</td>\n",
       "    </tr>\n",
       "    <tr>\n",
       "      <th>3</th>\n",
       "      <td>As much food as I've eaten today, I'm going to...</td>\n",
       "      <td>0</td>\n",
       "      <td>Floods_2013</td>\n",
       "    </tr>\n",
       "    <tr>\n",
       "      <th>4</th>\n",
       "      <td>‚Äú@____Reece: Can't wait for the 'I'm hanging...</td>\n",
       "      <td>0</td>\n",
       "      <td>Floods_2013</td>\n",
       "    </tr>\n",
       "  </tbody>\n",
       "</table>\n",
       "</div>"
      ],
      "text/plain": [
       "                                                text  label type_of_disaster\n",
       "0  It's Ok, Manchester's off flood alert. Fat cho...      0      Floods_2013\n",
       "1  Love how you ask for a tiny bit of sauce, and ...      0      Floods_2013\n",
       "2  Dif tailgate!! Morning games and good food. Im...      0      Floods_2013\n",
       "3  As much food as I've eaten today, I'm going to...      0      Floods_2013\n",
       "4  ‚Äú@____Reece: Can't wait for the 'I'm hanging...      0      Floods_2013"
      ]
     },
     "execution_count": 208,
     "metadata": {},
     "output_type": "execute_result"
    }
   ],
   "source": [
    "Floods_Summary_2013_df.head()"
   ]
  },
  {
   "cell_type": "code",
   "execution_count": 209,
   "id": "41f44b1e",
   "metadata": {},
   "outputs": [
    {
     "data": {
      "text/plain": [
       "text                0\n",
       "label               0\n",
       "type_of_disaster    0\n",
       "dtype: int64"
      ]
     },
     "execution_count": 209,
     "metadata": {},
     "output_type": "execute_result"
    }
   ],
   "source": [
    "Floods_Summary_2013_df.isnull().sum()"
   ]
  },
  {
   "cell_type": "code",
   "execution_count": 210,
   "id": "cb9be7cf",
   "metadata": {},
   "outputs": [],
   "source": [
    "Blizzard_Summary_2016_df = pd.read_csv('2016Blizzard_Summary.csv')"
   ]
  },
  {
   "cell_type": "code",
   "execution_count": 211,
   "id": "bc9aab2d",
   "metadata": {},
   "outputs": [],
   "source": [
    "Blizzard_Summary_2016_df.drop(['num','timestamp'], axis=1,inplace=True)"
   ]
  },
  {
   "cell_type": "code",
   "execution_count": 212,
   "id": "bdf25d43",
   "metadata": {},
   "outputs": [],
   "source": [
    "Blizzard_Summary_2016_df['type_of_disaster'] = 'Blizzard_2016'"
   ]
  },
  {
   "cell_type": "code",
   "execution_count": 213,
   "id": "9eb91ba2",
   "metadata": {},
   "outputs": [
    {
     "data": {
      "text/html": [
       "<div>\n",
       "<style scoped>\n",
       "    .dataframe tbody tr th:only-of-type {\n",
       "        vertical-align: middle;\n",
       "    }\n",
       "\n",
       "    .dataframe tbody tr th {\n",
       "        vertical-align: top;\n",
       "    }\n",
       "\n",
       "    .dataframe thead th {\n",
       "        text-align: right;\n",
       "    }\n",
       "</style>\n",
       "<table border=\"1\" class=\"dataframe\">\n",
       "  <thead>\n",
       "    <tr style=\"text-align: right;\">\n",
       "      <th></th>\n",
       "      <th>text</th>\n",
       "      <th>label</th>\n",
       "      <th>type_of_disaster</th>\n",
       "    </tr>\n",
       "  </thead>\n",
       "  <tbody>\n",
       "    <tr>\n",
       "      <th>0</th>\n",
       "      <td>&amp; :  US eastcoast had a historic blizzard.18 ...</td>\n",
       "      <td>1</td>\n",
       "      <td>Blizzard_2016</td>\n",
       "    </tr>\n",
       "    <tr>\n",
       "      <th>1</th>\n",
       "      <td>brixcitygurl: CAN YOU FIND THE CAR? #blizzard...</td>\n",
       "      <td>1</td>\n",
       "      <td>Blizzard_2016</td>\n",
       "    </tr>\n",
       "    <tr>\n",
       "      <th>2</th>\n",
       "      <td>Snow blizzard in NY ! It took us a week to ge...</td>\n",
       "      <td>1</td>\n",
       "      <td>Blizzard_2016</td>\n",
       "    </tr>\n",
       "    <tr>\n",
       "      <th>3</th>\n",
       "      <td>Snow Painting  Spray bottle with a few drops ...</td>\n",
       "      <td>1</td>\n",
       "      <td>Blizzard_2016</td>\n",
       "    </tr>\n",
       "    <tr>\n",
       "      <th>4</th>\n",
       "      <td>Stony Brook Medicine residents covering the u...</td>\n",
       "      <td>1</td>\n",
       "      <td>Blizzard_2016</td>\n",
       "    </tr>\n",
       "  </tbody>\n",
       "</table>\n",
       "</div>"
      ],
      "text/plain": [
       "                                                text  label type_of_disaster\n",
       "0   & :  US eastcoast had a historic blizzard.18 ...      1    Blizzard_2016\n",
       "1   brixcitygurl: CAN YOU FIND THE CAR? #blizzard...      1    Blizzard_2016\n",
       "2   Snow blizzard in NY ! It took us a week to ge...      1    Blizzard_2016\n",
       "3   Snow Painting  Spray bottle with a few drops ...      1    Blizzard_2016\n",
       "4   Stony Brook Medicine residents covering the u...      1    Blizzard_2016"
      ]
     },
     "execution_count": 213,
     "metadata": {},
     "output_type": "execute_result"
    }
   ],
   "source": [
    "Blizzard_Summary_2016_df.head()"
   ]
  },
  {
   "cell_type": "code",
   "execution_count": 214,
   "id": "3adfb0d5",
   "metadata": {},
   "outputs": [
    {
     "data": {
      "text/plain": [
       "(3649, 3)"
      ]
     },
     "execution_count": 214,
     "metadata": {},
     "output_type": "execute_result"
    }
   ],
   "source": [
    "Blizzard_Summary_2016_df.shape"
   ]
  },
  {
   "cell_type": "code",
   "execution_count": 215,
   "id": "9021253a",
   "metadata": {},
   "outputs": [
    {
     "data": {
      "text/plain": [
       "text                0\n",
       "label               0\n",
       "type_of_disaster    0\n",
       "dtype: int64"
      ]
     },
     "execution_count": 215,
     "metadata": {},
     "output_type": "execute_result"
    }
   ],
   "source": [
    "Blizzard_Summary_2016_df.isnull().sum()"
   ]
  },
  {
   "cell_type": "code",
   "execution_count": 216,
   "id": "71439482",
   "metadata": {},
   "outputs": [],
   "source": [
    "Matthew_Summary_2016_df = pd.read_csv('2016Matthew_Summary.csv')"
   ]
  },
  {
   "cell_type": "code",
   "execution_count": 217,
   "id": "da7489b0",
   "metadata": {},
   "outputs": [],
   "source": [
    "Matthew_Summary_2016_df['type_of_disaster'] = 'Matthew'"
   ]
  },
  {
   "cell_type": "code",
   "execution_count": 218,
   "id": "9fc1c8a4",
   "metadata": {},
   "outputs": [],
   "source": [
    "Matthew_Summary_2016_df.drop(['num','timestamp'], axis=1,inplace=True)"
   ]
  },
  {
   "cell_type": "code",
   "execution_count": 219,
   "id": "0a40793e",
   "metadata": {},
   "outputs": [
    {
     "data": {
      "text/html": [
       "<div>\n",
       "<style scoped>\n",
       "    .dataframe tbody tr th:only-of-type {\n",
       "        vertical-align: middle;\n",
       "    }\n",
       "\n",
       "    .dataframe tbody tr th {\n",
       "        vertical-align: top;\n",
       "    }\n",
       "\n",
       "    .dataframe thead th {\n",
       "        text-align: right;\n",
       "    }\n",
       "</style>\n",
       "<table border=\"1\" class=\"dataframe\">\n",
       "  <thead>\n",
       "    <tr style=\"text-align: right;\">\n",
       "      <th></th>\n",
       "      <th>text</th>\n",
       "      <th>label</th>\n",
       "      <th>type_of_disaster</th>\n",
       "    </tr>\n",
       "  </thead>\n",
       "  <tbody>\n",
       "    <tr>\n",
       "      <th>0</th>\n",
       "      <td>With my Love of my Life, my Bride, on the eve ...</td>\n",
       "      <td>0</td>\n",
       "      <td>Matthew</td>\n",
       "    </tr>\n",
       "    <tr>\n",
       "      <th>1</th>\n",
       "      <td>Time for us to start getting ready for Hurrica...</td>\n",
       "      <td>0</td>\n",
       "      <td>Matthew</td>\n",
       "    </tr>\n",
       "    <tr>\n",
       "      <th>2</th>\n",
       "      <td>Hurricane Tips #food #hurricane #matthew #remi...</td>\n",
       "      <td>1</td>\n",
       "      <td>Matthew</td>\n",
       "    </tr>\n",
       "    <tr>\n",
       "      <th>3</th>\n",
       "      <td>With my Love of my Life, my Bride, on the eve ...</td>\n",
       "      <td>0</td>\n",
       "      <td>Matthew</td>\n",
       "    </tr>\n",
       "    <tr>\n",
       "      <th>4</th>\n",
       "      <td>Time for us to start getting ready for Hurrica...</td>\n",
       "      <td>0</td>\n",
       "      <td>Matthew</td>\n",
       "    </tr>\n",
       "  </tbody>\n",
       "</table>\n",
       "</div>"
      ],
      "text/plain": [
       "                                                text  label type_of_disaster\n",
       "0  With my Love of my Life, my Bride, on the eve ...      0          Matthew\n",
       "1  Time for us to start getting ready for Hurrica...      0          Matthew\n",
       "2  Hurricane Tips #food #hurricane #matthew #remi...      1          Matthew\n",
       "3  With my Love of my Life, my Bride, on the eve ...      0          Matthew\n",
       "4  Time for us to start getting ready for Hurrica...      0          Matthew"
      ]
     },
     "execution_count": 219,
     "metadata": {},
     "output_type": "execute_result"
    }
   ],
   "source": [
    "Matthew_Summary_2016_df.head()"
   ]
  },
  {
   "cell_type": "code",
   "execution_count": 220,
   "id": "673991e4",
   "metadata": {},
   "outputs": [
    {
     "data": {
      "text/plain": [
       "(5204, 3)"
      ]
     },
     "execution_count": 220,
     "metadata": {},
     "output_type": "execute_result"
    }
   ],
   "source": [
    "Matthew_Summary_2016_df.shape"
   ]
  },
  {
   "cell_type": "code",
   "execution_count": 221,
   "id": "84627da3",
   "metadata": {},
   "outputs": [
    {
     "data": {
      "text/plain": [
       "text                0\n",
       "label               0\n",
       "type_of_disaster    0\n",
       "dtype: int64"
      ]
     },
     "execution_count": 221,
     "metadata": {},
     "output_type": "execute_result"
    }
   ],
   "source": [
    "Matthew_Summary_2016_df.isnull().sum()"
   ]
  },
  {
   "cell_type": "code",
   "execution_count": 222,
   "id": "06973737",
   "metadata": {},
   "outputs": [],
   "source": [
    "Hurricane_Summary_2017_df = pd.read_csv('2017Hurricane_Summary.csv')"
   ]
  },
  {
   "cell_type": "code",
   "execution_count": 223,
   "id": "c28d9561",
   "metadata": {},
   "outputs": [],
   "source": [
    "Hurricane_Summary_2017_df['type_of_disaster'] = 'Hurricane_2017'"
   ]
  },
  {
   "cell_type": "code",
   "execution_count": 224,
   "id": "34f16347",
   "metadata": {},
   "outputs": [],
   "source": [
    "Hurricane_Summary_2017_df.drop(['num','timestamp'], axis=1,inplace=True)"
   ]
  },
  {
   "cell_type": "code",
   "execution_count": 225,
   "id": "044e6132",
   "metadata": {},
   "outputs": [
    {
     "data": {
      "text/html": [
       "<div>\n",
       "<style scoped>\n",
       "    .dataframe tbody tr th:only-of-type {\n",
       "        vertical-align: middle;\n",
       "    }\n",
       "\n",
       "    .dataframe tbody tr th {\n",
       "        vertical-align: top;\n",
       "    }\n",
       "\n",
       "    .dataframe thead th {\n",
       "        text-align: right;\n",
       "    }\n",
       "</style>\n",
       "<table border=\"1\" class=\"dataframe\">\n",
       "  <thead>\n",
       "    <tr style=\"text-align: right;\">\n",
       "      <th></th>\n",
       "      <th>text</th>\n",
       "      <th>label</th>\n",
       "      <th>type_of_disaster</th>\n",
       "    </tr>\n",
       "  </thead>\n",
       "  <tbody>\n",
       "    <tr>\n",
       "      <th>0</th>\n",
       "      <td>Your hurricane emergency kit should include at...</td>\n",
       "      <td>1</td>\n",
       "      <td>Hurricane_2017</td>\n",
       "    </tr>\n",
       "    <tr>\n",
       "      <th>1</th>\n",
       "      <td>Eclipse: overrated, over-hyped, schools are be...</td>\n",
       "      <td>1</td>\n",
       "      <td>Hurricane_2017</td>\n",
       "    </tr>\n",
       "    <tr>\n",
       "      <th>2</th>\n",
       "      <td>Your hurricane emergency kit should include at...</td>\n",
       "      <td>1</td>\n",
       "      <td>Hurricane_2017</td>\n",
       "    </tr>\n",
       "    <tr>\n",
       "      <th>3</th>\n",
       "      <td>Eclipse: overrated, over-hyped, schools are be...</td>\n",
       "      <td>1</td>\n",
       "      <td>Hurricane_2017</td>\n",
       "    </tr>\n",
       "    <tr>\n",
       "      <th>4</th>\n",
       "      <td>I wanna go back to New Orleans so bad  I wanna...</td>\n",
       "      <td>1</td>\n",
       "      <td>Hurricane_2017</td>\n",
       "    </tr>\n",
       "  </tbody>\n",
       "</table>\n",
       "</div>"
      ],
      "text/plain": [
       "                                                text  label type_of_disaster\n",
       "0  Your hurricane emergency kit should include at...      1   Hurricane_2017\n",
       "1  Eclipse: overrated, over-hyped, schools are be...      1   Hurricane_2017\n",
       "2  Your hurricane emergency kit should include at...      1   Hurricane_2017\n",
       "3  Eclipse: overrated, over-hyped, schools are be...      1   Hurricane_2017\n",
       "4  I wanna go back to New Orleans so bad  I wanna...      1   Hurricane_2017"
      ]
     },
     "execution_count": 225,
     "metadata": {},
     "output_type": "execute_result"
    }
   ],
   "source": [
    "Hurricane_Summary_2017_df.head()\n",
    "\n"
   ]
  },
  {
   "cell_type": "code",
   "execution_count": 226,
   "id": "5b345aba",
   "metadata": {},
   "outputs": [
    {
     "data": {
      "text/plain": [
       "text                0\n",
       "label               0\n",
       "type_of_disaster    0\n",
       "dtype: int64"
      ]
     },
     "execution_count": 226,
     "metadata": {},
     "output_type": "execute_result"
    }
   ],
   "source": [
    "Hurricane_Summary_2017_df.isnull().sum()"
   ]
  },
  {
   "cell_type": "code",
   "execution_count": 227,
   "id": "005519b1",
   "metadata": {},
   "outputs": [],
   "source": [
    "Michael_Summary_2018_df = pd.read_csv('2018Michael_Summary.csv')"
   ]
  },
  {
   "cell_type": "code",
   "execution_count": 228,
   "id": "d23fbc66",
   "metadata": {},
   "outputs": [],
   "source": [
    "Michael_Summary_2018_df['type_of_disaster'] = 'Michael'"
   ]
  },
  {
   "cell_type": "code",
   "execution_count": 229,
   "id": "b75f5dad",
   "metadata": {},
   "outputs": [],
   "source": [
    "Michael_Summary_2018_df.drop(['Unnamed: 0','timestamp'], axis=1,inplace=True)"
   ]
  },
  {
   "cell_type": "code",
   "execution_count": 230,
   "id": "7a1b6307",
   "metadata": {},
   "outputs": [
    {
     "data": {
      "text/html": [
       "<div>\n",
       "<style scoped>\n",
       "    .dataframe tbody tr th:only-of-type {\n",
       "        vertical-align: middle;\n",
       "    }\n",
       "\n",
       "    .dataframe tbody tr th {\n",
       "        vertical-align: top;\n",
       "    }\n",
       "\n",
       "    .dataframe thead th {\n",
       "        text-align: right;\n",
       "    }\n",
       "</style>\n",
       "<table border=\"1\" class=\"dataframe\">\n",
       "  <thead>\n",
       "    <tr style=\"text-align: right;\">\n",
       "      <th></th>\n",
       "      <th>text</th>\n",
       "      <th>sentiment</th>\n",
       "      <th>type_of_disaster</th>\n",
       "    </tr>\n",
       "  </thead>\n",
       "  <tbody>\n",
       "    <tr>\n",
       "      <th>0</th>\n",
       "      <td>Keeping our eyes in Hurricane Michael as it he...</td>\n",
       "      <td>0</td>\n",
       "      <td>Michael</td>\n",
       "    </tr>\n",
       "    <tr>\n",
       "      <th>1</th>\n",
       "      <td>Tallahassee prepares for Hurricane Michael wit...</td>\n",
       "      <td>1</td>\n",
       "      <td>Michael</td>\n",
       "    </tr>\n",
       "    <tr>\n",
       "      <th>2</th>\n",
       "      <td>Just spent half a day at Costco and grocery st...</td>\n",
       "      <td>1</td>\n",
       "      <td>Michael</td>\n",
       "    </tr>\n",
       "    <tr>\n",
       "      <th>3</th>\n",
       "      <td>Hurricane Michael just allow us to get those f...</td>\n",
       "      <td>1</td>\n",
       "      <td>Michael</td>\n",
       "    </tr>\n",
       "    <tr>\n",
       "      <th>4</th>\n",
       "      <td>If you are in Hurricane Michael's path, here i...</td>\n",
       "      <td>0</td>\n",
       "      <td>Michael</td>\n",
       "    </tr>\n",
       "  </tbody>\n",
       "</table>\n",
       "</div>"
      ],
      "text/plain": [
       "                                                text  sentiment  \\\n",
       "0  Keeping our eyes in Hurricane Michael as it he...          0   \n",
       "1  Tallahassee prepares for Hurricane Michael wit...          1   \n",
       "2  Just spent half a day at Costco and grocery st...          1   \n",
       "3  Hurricane Michael just allow us to get those f...          1   \n",
       "4  If you are in Hurricane Michael's path, here i...          0   \n",
       "\n",
       "  type_of_disaster  \n",
       "0          Michael  \n",
       "1          Michael  \n",
       "2          Michael  \n",
       "3          Michael  \n",
       "4          Michael  "
      ]
     },
     "execution_count": 230,
     "metadata": {},
     "output_type": "execute_result"
    }
   ],
   "source": [
    "Michael_Summary_2018_df.head()\n"
   ]
  },
  {
   "cell_type": "code",
   "execution_count": 231,
   "id": "6a833906",
   "metadata": {},
   "outputs": [],
   "source": [
    "Wildfires_Summary_2018_df = pd.read_csv('2018Wildfires_Summary.csv')"
   ]
  },
  {
   "cell_type": "code",
   "execution_count": 232,
   "id": "14096e36",
   "metadata": {},
   "outputs": [],
   "source": [
    "Wildfires_Summary_2018_df ['type_of_disaster']= 'Wildfires_2018'"
   ]
  },
  {
   "cell_type": "code",
   "execution_count": 233,
   "id": "149dcb8f",
   "metadata": {},
   "outputs": [],
   "source": [
    "Wildfires_Summary_2018_df.drop(['num','timestamp'], axis=1,inplace=True)"
   ]
  },
  {
   "cell_type": "code",
   "execution_count": 234,
   "id": "c8f5d072",
   "metadata": {},
   "outputs": [
    {
     "data": {
      "text/html": [
       "<div>\n",
       "<style scoped>\n",
       "    .dataframe tbody tr th:only-of-type {\n",
       "        vertical-align: middle;\n",
       "    }\n",
       "\n",
       "    .dataframe tbody tr th {\n",
       "        vertical-align: top;\n",
       "    }\n",
       "\n",
       "    .dataframe thead th {\n",
       "        text-align: right;\n",
       "    }\n",
       "</style>\n",
       "<table border=\"1\" class=\"dataframe\">\n",
       "  <thead>\n",
       "    <tr style=\"text-align: right;\">\n",
       "      <th></th>\n",
       "      <th>text</th>\n",
       "      <th>label</th>\n",
       "      <th>type_of_disaster</th>\n",
       "    </tr>\n",
       "  </thead>\n",
       "  <tbody>\n",
       "    <tr>\n",
       "      <th>0</th>\n",
       "      <td>\\n\\nEntertainment Tonight: Dave Grohl Deliver...</td>\n",
       "      <td>1</td>\n",
       "      <td>Wildfires_2018</td>\n",
       "    </tr>\n",
       "    <tr>\n",
       "      <th>1</th>\n",
       "      <td>Residents are oftentimes left no choice but...</td>\n",
       "      <td>1</td>\n",
       "      <td>Wildfires_2018</td>\n",
       "    </tr>\n",
       "    <tr>\n",
       "      <th>2</th>\n",
       "      <td>HEADLINES BLAME THIS ON ‚ÄúWILDFIRE‚Äù ‚Äî\\n...</td>\n",
       "      <td>1</td>\n",
       "      <td>Wildfires_2018</td>\n",
       "    </tr>\n",
       "    <tr>\n",
       "      <th>3</th>\n",
       "      <td>‚ÄúAlmost 200 Australian and NZ firefighters ...</td>\n",
       "      <td>1</td>\n",
       "      <td>Wildfires_2018</td>\n",
       "    </tr>\n",
       "    <tr>\n",
       "      <th>4</th>\n",
       "      <td>‚ÄúPolice arrest suspect for setting off mass...</td>\n",
       "      <td>1</td>\n",
       "      <td>Wildfires_2018</td>\n",
       "    </tr>\n",
       "  </tbody>\n",
       "</table>\n",
       "</div>"
      ],
      "text/plain": [
       "                                                text  label type_of_disaster\n",
       "0   \\n\\nEntertainment Tonight: Dave Grohl Deliver...      1   Wildfires_2018\n",
       "1     Residents are oftentimes left no choice but...      1   Wildfires_2018\n",
       "2    HEADLINES BLAME THIS ON ‚ÄúWILDFIRE‚Äù ‚Äî\\n...      1   Wildfires_2018\n",
       "3   ‚ÄúAlmost 200 Australian and NZ firefighters ...      1   Wildfires_2018\n",
       "4   ‚ÄúPolice arrest suspect for setting off mass...      1   Wildfires_2018"
      ]
     },
     "execution_count": 234,
     "metadata": {},
     "output_type": "execute_result"
    }
   ],
   "source": [
    "Wildfires_Summary_2018_df.head()"
   ]
  },
  {
   "cell_type": "code",
   "execution_count": 235,
   "id": "9632660c",
   "metadata": {},
   "outputs": [
    {
     "data": {
      "text/plain": [
       "(4596, 3)"
      ]
     },
     "execution_count": 235,
     "metadata": {},
     "output_type": "execute_result"
    }
   ],
   "source": [
    "Wildfires_Summary_2018_df.shape"
   ]
  },
  {
   "cell_type": "code",
   "execution_count": 236,
   "id": "84916ffa",
   "metadata": {},
   "outputs": [
    {
     "data": {
      "text/plain": [
       "text                0\n",
       "label               0\n",
       "type_of_disaster    0\n",
       "dtype: int64"
      ]
     },
     "execution_count": 236,
     "metadata": {},
     "output_type": "execute_result"
    }
   ],
   "source": [
    "Wildfires_Summary_2018_df.isnull().sum()"
   ]
  },
  {
   "cell_type": "code",
   "execution_count": 237,
   "id": "f8fb936e",
   "metadata": {},
   "outputs": [],
   "source": [
    "Dorian_Summary_2019_df = pd.read_csv('2019Dorian_Summary.csv')"
   ]
  },
  {
   "cell_type": "code",
   "execution_count": 238,
   "id": "942b2ccc",
   "metadata": {},
   "outputs": [],
   "source": [
    "Dorian_Summary_2019_df['type_of_disaster'] = 'Dorian'"
   ]
  },
  {
   "cell_type": "code",
   "execution_count": 239,
   "id": "0cbcc0a9",
   "metadata": {},
   "outputs": [],
   "source": [
    "Dorian_Summary_2019_df.drop(['num','timestamp'], axis=1,inplace=True)"
   ]
  },
  {
   "cell_type": "code",
   "execution_count": 240,
   "id": "3adb4bd4",
   "metadata": {},
   "outputs": [
    {
     "data": {
      "text/html": [
       "<div>\n",
       "<style scoped>\n",
       "    .dataframe tbody tr th:only-of-type {\n",
       "        vertical-align: middle;\n",
       "    }\n",
       "\n",
       "    .dataframe tbody tr th {\n",
       "        vertical-align: top;\n",
       "    }\n",
       "\n",
       "    .dataframe thead th {\n",
       "        text-align: right;\n",
       "    }\n",
       "</style>\n",
       "<table border=\"1\" class=\"dataframe\">\n",
       "  <thead>\n",
       "    <tr style=\"text-align: right;\">\n",
       "      <th></th>\n",
       "      <th>text</th>\n",
       "      <th>label</th>\n",
       "      <th>type_of_disaster</th>\n",
       "    </tr>\n",
       "  </thead>\n",
       "  <tbody>\n",
       "    <tr>\n",
       "      <th>0</th>\n",
       "      <td>The governor of PR Wanda Vazquez just made a s...</td>\n",
       "      <td>1</td>\n",
       "      <td>Dorian</td>\n",
       "    </tr>\n",
       "    <tr>\n",
       "      <th>1</th>\n",
       "      <td>The governor of PR Wanda Vazquez just made a s...</td>\n",
       "      <td>1</td>\n",
       "      <td>Dorian</td>\n",
       "    </tr>\n",
       "    <tr>\n",
       "      <th>2</th>\n",
       "      <td>To my family and friends who live in the path ...</td>\n",
       "      <td>0</td>\n",
       "      <td>Dorian</td>\n",
       "    </tr>\n",
       "    <tr>\n",
       "      <th>3</th>\n",
       "      <td>My colleague @LizBalmaseda with some food tips...</td>\n",
       "      <td>1</td>\n",
       "      <td>Dorian</td>\n",
       "    </tr>\n",
       "    <tr>\n",
       "      <th>4</th>\n",
       "      <td>Hurricane #Dorian #Newadvisory \\ntime to prepa...</td>\n",
       "      <td>1</td>\n",
       "      <td>Dorian</td>\n",
       "    </tr>\n",
       "  </tbody>\n",
       "</table>\n",
       "</div>"
      ],
      "text/plain": [
       "                                                text  label type_of_disaster\n",
       "0  The governor of PR Wanda Vazquez just made a s...      1           Dorian\n",
       "1  The governor of PR Wanda Vazquez just made a s...      1           Dorian\n",
       "2  To my family and friends who live in the path ...      0           Dorian\n",
       "3  My colleague @LizBalmaseda with some food tips...      1           Dorian\n",
       "4  Hurricane #Dorian #Newadvisory \\ntime to prepa...      1           Dorian"
      ]
     },
     "execution_count": 240,
     "metadata": {},
     "output_type": "execute_result"
    }
   ],
   "source": [
    "Dorian_Summary_2019_df.head()"
   ]
  },
  {
   "cell_type": "code",
   "execution_count": 241,
   "id": "836fe1d1",
   "metadata": {},
   "outputs": [
    {
     "data": {
      "text/plain": [
       "text                0\n",
       "label               0\n",
       "type_of_disaster    0\n",
       "dtype: int64"
      ]
     },
     "execution_count": 241,
     "metadata": {},
     "output_type": "execute_result"
    }
   ],
   "source": [
    "Dorian_Summary_2019_df.isnull().sum()"
   ]
  },
  {
   "cell_type": "code",
   "execution_count": 245,
   "id": "6b425119",
   "metadata": {},
   "outputs": [],
   "source": [
    "frames = [Tornado_Summary_2011_df,Sandy_Summary_2012_df,Floods_Summary_2013_df,Blizzard_Summary_2016_df,\n",
    "          Matthew_Summary_2016_df,Hurricane_Summary_2017_df,Michael_Summary_2018_df,Wildfires_Summary_2018_df,\n",
    "          Dorian_Summary_2019_df\n",
    "         ]\n"
   ]
  },
  {
   "cell_type": "code",
   "execution_count": 248,
   "id": "ae7ce635",
   "metadata": {},
   "outputs": [],
   "source": [
    "df = pd.concat(frames)"
   ]
  },
  {
   "cell_type": "code",
   "execution_count": 260,
   "id": "1999a4c3",
   "metadata": {},
   "outputs": [
    {
     "data": {
      "text/plain": [
       "(41998, 4)"
      ]
     },
     "execution_count": 260,
     "metadata": {},
     "output_type": "execute_result"
    }
   ],
   "source": [
    "df.shape"
   ]
  },
  {
   "cell_type": "code",
   "execution_count": 261,
   "id": "d858d5a8",
   "metadata": {},
   "outputs": [],
   "source": [
    "df.drop(['sentiment'], axis=1,inplace=True)"
   ]
  },
  {
   "cell_type": "code",
   "execution_count": 262,
   "id": "17152d9e",
   "metadata": {},
   "outputs": [
    {
     "data": {
      "text/html": [
       "<div>\n",
       "<style scoped>\n",
       "    .dataframe tbody tr th:only-of-type {\n",
       "        vertical-align: middle;\n",
       "    }\n",
       "\n",
       "    .dataframe tbody tr th {\n",
       "        vertical-align: top;\n",
       "    }\n",
       "\n",
       "    .dataframe thead th {\n",
       "        text-align: right;\n",
       "    }\n",
       "</style>\n",
       "<table border=\"1\" class=\"dataframe\">\n",
       "  <thead>\n",
       "    <tr style=\"text-align: right;\">\n",
       "      <th></th>\n",
       "      <th>text</th>\n",
       "      <th>label</th>\n",
       "      <th>type_of_disaster</th>\n",
       "    </tr>\n",
       "  </thead>\n",
       "  <tbody>\n",
       "    <tr>\n",
       "      <th>0</th>\n",
       "      <td>RT @uberdogfound: Please RT - Food needed for ...</td>\n",
       "      <td>1.0</td>\n",
       "      <td>Tornado_2011</td>\n",
       "    </tr>\n",
       "    <tr>\n",
       "      <th>1</th>\n",
       "      <td>Please RT - Food needed for shelter in NC in a...</td>\n",
       "      <td>1.0</td>\n",
       "      <td>Tornado_2011</td>\n",
       "    </tr>\n",
       "    <tr>\n",
       "      <th>2</th>\n",
       "      <td>‚ô°its raining and tornado warnings....about t...</td>\n",
       "      <td>1.0</td>\n",
       "      <td>Tornado_2011</td>\n",
       "    </tr>\n",
       "    <tr>\n",
       "      <th>3</th>\n",
       "      <td>Lmao #damn RT @LuCeCaNNoNn: If I don't get any...</td>\n",
       "      <td>1.0</td>\n",
       "      <td>Tornado_2011</td>\n",
       "    </tr>\n",
       "    <tr>\n",
       "      <th>4</th>\n",
       "      <td>Saved by the tornado warning....I'm just ready...</td>\n",
       "      <td>0.0</td>\n",
       "      <td>Tornado_2011</td>\n",
       "    </tr>\n",
       "  </tbody>\n",
       "</table>\n",
       "</div>"
      ],
      "text/plain": [
       "                                                text  label type_of_disaster\n",
       "0  RT @uberdogfound: Please RT - Food needed for ...    1.0     Tornado_2011\n",
       "1  Please RT - Food needed for shelter in NC in a...    1.0     Tornado_2011\n",
       "2  ‚ô°its raining and tornado warnings....about t...    1.0     Tornado_2011\n",
       "3  Lmao #damn RT @LuCeCaNNoNn: If I don't get any...    1.0     Tornado_2011\n",
       "4  Saved by the tornado warning....I'm just ready...    0.0     Tornado_2011"
      ]
     },
     "execution_count": 262,
     "metadata": {},
     "output_type": "execute_result"
    }
   ],
   "source": [
    "df.head()"
   ]
  },
  {
   "cell_type": "code",
   "execution_count": 263,
   "id": "0a6e64f4",
   "metadata": {},
   "outputs": [],
   "source": [
    "df.rename(columns = {'label':'disaster'}, inplace = True)"
   ]
  },
  {
   "cell_type": "code",
   "execution_count": 293,
   "id": "9ba6501c",
   "metadata": {},
   "outputs": [],
   "source": [
    "df.drop(['id2'],axis=1,inplace=True)"
   ]
  },
  {
   "cell_type": "code",
   "execution_count": 294,
   "id": "02b9ce25",
   "metadata": {},
   "outputs": [],
   "source": [
    "df['id'] = df.index+1"
   ]
  },
  {
   "cell_type": "code",
   "execution_count": 295,
   "id": "bc9d9b30",
   "metadata": {},
   "outputs": [],
   "source": [
    "df['id'] = df['type_of_disaster']+'_'+df['id'].astype(str)"
   ]
  },
  {
   "cell_type": "code",
   "execution_count": 296,
   "id": "e3d7d3c4",
   "metadata": {},
   "outputs": [
    {
     "data": {
      "text/html": [
       "<div>\n",
       "<style scoped>\n",
       "    .dataframe tbody tr th:only-of-type {\n",
       "        vertical-align: middle;\n",
       "    }\n",
       "\n",
       "    .dataframe tbody tr th {\n",
       "        vertical-align: top;\n",
       "    }\n",
       "\n",
       "    .dataframe thead th {\n",
       "        text-align: right;\n",
       "    }\n",
       "</style>\n",
       "<table border=\"1\" class=\"dataframe\">\n",
       "  <thead>\n",
       "    <tr style=\"text-align: right;\">\n",
       "      <th></th>\n",
       "      <th>text</th>\n",
       "      <th>disaster</th>\n",
       "      <th>type_of_disaster</th>\n",
       "      <th>id</th>\n",
       "    </tr>\n",
       "  </thead>\n",
       "  <tbody>\n",
       "    <tr>\n",
       "      <th>0</th>\n",
       "      <td>RT @uberdogfound: Please RT - Food needed for ...</td>\n",
       "      <td>1.0</td>\n",
       "      <td>Tornado_2011</td>\n",
       "      <td>Tornado_2011_1</td>\n",
       "    </tr>\n",
       "    <tr>\n",
       "      <th>1</th>\n",
       "      <td>Please RT - Food needed for shelter in NC in a...</td>\n",
       "      <td>1.0</td>\n",
       "      <td>Tornado_2011</td>\n",
       "      <td>Tornado_2011_2</td>\n",
       "    </tr>\n",
       "    <tr>\n",
       "      <th>2</th>\n",
       "      <td>‚ô°its raining and tornado warnings....about t...</td>\n",
       "      <td>1.0</td>\n",
       "      <td>Tornado_2011</td>\n",
       "      <td>Tornado_2011_3</td>\n",
       "    </tr>\n",
       "    <tr>\n",
       "      <th>3</th>\n",
       "      <td>Lmao #damn RT @LuCeCaNNoNn: If I don't get any...</td>\n",
       "      <td>1.0</td>\n",
       "      <td>Tornado_2011</td>\n",
       "      <td>Tornado_2011_4</td>\n",
       "    </tr>\n",
       "    <tr>\n",
       "      <th>4</th>\n",
       "      <td>Saved by the tornado warning....I'm just ready...</td>\n",
       "      <td>0.0</td>\n",
       "      <td>Tornado_2011</td>\n",
       "      <td>Tornado_2011_5</td>\n",
       "    </tr>\n",
       "  </tbody>\n",
       "</table>\n",
       "</div>"
      ],
      "text/plain": [
       "                                                text  disaster  \\\n",
       "0  RT @uberdogfound: Please RT - Food needed for ...       1.0   \n",
       "1  Please RT - Food needed for shelter in NC in a...       1.0   \n",
       "2  ‚ô°its raining and tornado warnings....about t...       1.0   \n",
       "3  Lmao #damn RT @LuCeCaNNoNn: If I don't get any...       1.0   \n",
       "4  Saved by the tornado warning....I'm just ready...       0.0   \n",
       "\n",
       "  type_of_disaster              id  \n",
       "0     Tornado_2011  Tornado_2011_1  \n",
       "1     Tornado_2011  Tornado_2011_2  \n",
       "2     Tornado_2011  Tornado_2011_3  \n",
       "3     Tornado_2011  Tornado_2011_4  \n",
       "4     Tornado_2011  Tornado_2011_5  "
      ]
     },
     "execution_count": 296,
     "metadata": {},
     "output_type": "execute_result"
    }
   ],
   "source": [
    "df.head()"
   ]
  },
  {
   "cell_type": "code",
   "execution_count": 300,
   "id": "440c52b6",
   "metadata": {},
   "outputs": [],
   "source": [
    "df.to_csv('Natural-Hazards-Twitter-Dataset.csv',index=False)"
   ]
  },
  {
   "cell_type": "code",
   "execution_count": 301,
   "id": "9b4d36a1",
   "metadata": {},
   "outputs": [],
   "source": [
    "df2 = pd.read_csv('Natural-Hazards-Twitter-Dataset.csv')"
   ]
  },
  {
   "cell_type": "code",
   "execution_count": 302,
   "id": "c15c1e77",
   "metadata": {},
   "outputs": [
    {
     "data": {
      "text/html": [
       "<div>\n",
       "<style scoped>\n",
       "    .dataframe tbody tr th:only-of-type {\n",
       "        vertical-align: middle;\n",
       "    }\n",
       "\n",
       "    .dataframe tbody tr th {\n",
       "        vertical-align: top;\n",
       "    }\n",
       "\n",
       "    .dataframe thead th {\n",
       "        text-align: right;\n",
       "    }\n",
       "</style>\n",
       "<table border=\"1\" class=\"dataframe\">\n",
       "  <thead>\n",
       "    <tr style=\"text-align: right;\">\n",
       "      <th></th>\n",
       "      <th>text</th>\n",
       "      <th>disaster</th>\n",
       "      <th>type_of_disaster</th>\n",
       "      <th>id</th>\n",
       "    </tr>\n",
       "  </thead>\n",
       "  <tbody>\n",
       "    <tr>\n",
       "      <th>0</th>\n",
       "      <td>RT @uberdogfound: Please RT - Food needed for ...</td>\n",
       "      <td>1.0</td>\n",
       "      <td>Tornado_2011</td>\n",
       "      <td>Tornado_2011_1</td>\n",
       "    </tr>\n",
       "    <tr>\n",
       "      <th>1</th>\n",
       "      <td>Please RT - Food needed for shelter in NC in a...</td>\n",
       "      <td>1.0</td>\n",
       "      <td>Tornado_2011</td>\n",
       "      <td>Tornado_2011_2</td>\n",
       "    </tr>\n",
       "    <tr>\n",
       "      <th>2</th>\n",
       "      <td>‚ô°its raining and tornado warnings....about t...</td>\n",
       "      <td>1.0</td>\n",
       "      <td>Tornado_2011</td>\n",
       "      <td>Tornado_2011_3</td>\n",
       "    </tr>\n",
       "    <tr>\n",
       "      <th>3</th>\n",
       "      <td>Lmao #damn RT @LuCeCaNNoNn: If I don't get any...</td>\n",
       "      <td>1.0</td>\n",
       "      <td>Tornado_2011</td>\n",
       "      <td>Tornado_2011_4</td>\n",
       "    </tr>\n",
       "    <tr>\n",
       "      <th>4</th>\n",
       "      <td>Saved by the tornado warning....I'm just ready...</td>\n",
       "      <td>0.0</td>\n",
       "      <td>Tornado_2011</td>\n",
       "      <td>Tornado_2011_5</td>\n",
       "    </tr>\n",
       "  </tbody>\n",
       "</table>\n",
       "</div>"
      ],
      "text/plain": [
       "                                                text  disaster  \\\n",
       "0  RT @uberdogfound: Please RT - Food needed for ...       1.0   \n",
       "1  Please RT - Food needed for shelter in NC in a...       1.0   \n",
       "2  ‚ô°its raining and tornado warnings....about t...       1.0   \n",
       "3  Lmao #damn RT @LuCeCaNNoNn: If I don't get any...       1.0   \n",
       "4  Saved by the tornado warning....I'm just ready...       0.0   \n",
       "\n",
       "  type_of_disaster              id  \n",
       "0     Tornado_2011  Tornado_2011_1  \n",
       "1     Tornado_2011  Tornado_2011_2  \n",
       "2     Tornado_2011  Tornado_2011_3  \n",
       "3     Tornado_2011  Tornado_2011_4  \n",
       "4     Tornado_2011  Tornado_2011_5  "
      ]
     },
     "execution_count": 302,
     "metadata": {},
     "output_type": "execute_result"
    }
   ],
   "source": [
    "df2.head()"
   ]
  },
  {
   "cell_type": "code",
   "execution_count": null,
   "id": "1a52ad00",
   "metadata": {},
   "outputs": [],
   "source": []
  },
  {
   "cell_type": "code",
   "execution_count": null,
   "id": "33535438",
   "metadata": {},
   "outputs": [],
   "source": []
  }
 ],
 "metadata": {
  "kernelspec": {
   "display_name": "Python 3 (ipykernel)",
   "language": "python",
   "name": "python3"
  },
  "language_info": {
   "codemirror_mode": {
    "name": "ipython",
    "version": 3
   },
   "file_extension": ".py",
   "mimetype": "text/x-python",
   "name": "python",
   "nbconvert_exporter": "python",
   "pygments_lexer": "ipython3",
   "version": "3.9.13"
  }
 },
 "nbformat": 4,
 "nbformat_minor": 5
}
